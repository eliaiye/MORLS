{
 "cells": [
  {
   "cell_type": "code",
   "execution_count": 92,
   "id": "9c996157-6ada-4abc-ac96-54a2af63a5c8",
   "metadata": {},
   "outputs": [],
   "source": [
    "import torch\n",
    "import torch.nn as nn\n",
    "import torch.nn.functional as F\n",
    "import gym\n",
    "from stable_baselines3 import PPO\n",
    "\n",
    "import numpy as np\n",
    "from tqdm import tqdm\n",
    "import os\n",
    "import matplotlib.pyplot as plt"
   ]
  },
  {
   "cell_type": "code",
   "execution_count": 175,
   "id": "f7df59c2-9843-48a4-b860-ed0a0c0368ab",
   "metadata": {},
   "outputs": [],
   "source": [
    "class SimEnv(gym.Env):\n",
    "    def __init__(self, b=10, c=0.5, e=3, y0=2, threshold=1, penalty=2, timeout=100):\n",
    "        '''\n",
    "        action_space: (y, delta_t)\n",
    "        observation_space: (x)\n",
    "        \n",
    "        Input\n",
    "        threshold: when x is lower than this threshold, patient die\n",
    "        penalty: this parameter adds cost to frequent visits\n",
    "        '''\n",
    "        super(SimEnv, self).__init__()\n",
    "        \n",
    "        self.b = b\n",
    "        self.c = c\n",
    "        self.e = e\n",
    "        self.y0 = y0\n",
    "        self.threshold = threshold\n",
    "        self.penalty = penalty\n",
    "            \n",
    "        self.action_space = gym.spaces.Box(low=0,high=float(\"inf\"),shape=(2,),dtype=np.float32)\n",
    "        self.observation_space = gym.spaces.Box(low=-float(\"inf\"), high=float(\"inf\"), shape=(1,), dtype=np.float32)\n",
    "        self.state = None\n",
    "        self.timeout = timeout\n",
    "        self.steps_elapsed = 0\n",
    "        \n",
    "    def reset(self):\n",
    "        self.state = np.random.uniform(self.threshold, 15, 1) # numpy array (1,)\n",
    "        self.steps_elapsed=0\n",
    "        return(self.state)\n",
    "        \n",
    "        \n",
    "    def step(self, action):\n",
    "        delta_t=action[1]\n",
    "        y=action[0]\n",
    "        next_obs = self.xfunc(x=self.state, delta_t=delta_t, y=action[0], b=self.b,c= self.c, e=self.e, y0=self.y0)\n",
    "        \n",
    "        if next_obs > self.threshold:\n",
    "            reward = delta_t - self.penalty\n",
    "        elif (-1/self.c*np.log((self.threshold-self.state+self.b-self.e*(2*y*self.y0-y**2))/self.b) < 0):\n",
    "            reward = -self.penalty \n",
    "        else:\n",
    "            reward = -1/self.c*np.log((self.threshold-self.state+self.b-self.e*(2*y*self.y0-y**2))/self.b) - self.penalty\n",
    "            \n",
    "        self.state = next_obs \n",
    "        self.steps_elapsed+=1\n",
    "        \n",
    "        return(np.array(self.state).astype(np.float32), reward, next_obs <= self.threshold or self.steps_elapsed > self.timeout , {\"x\": self.state, \"y\": action[0], \"delta_t\": action[1], \"dead\": next_obs <= self.threshold})\n",
    "    \n",
    "    def xfunc(self, x, delta_t, y, b, c, e, y0):\n",
    "        '''\n",
    "        Input\n",
    "        x: last obs/state\n",
    "        delta_t: time interval btw visits\n",
    "        y: dosage\n",
    "        b, c, e, y0: parameters\n",
    "        Output\n",
    "        current obs/state\n",
    "        '''\n",
    "        return(x-b+b*np.exp(-c*delta_t)+e*(2*y*y0-y**2)) \n",
    "    \n",
    "    def render(self, mode=None):\n",
    "        pass\n",
    "    def close(self):\n",
    "        pass"
   ]
  },
  {
   "cell_type": "markdown",
   "id": "a7722077-bd93-4bae-8cd0-9ea327b62c4c",
   "metadata": {},
   "source": [
    "# Actor Critic Policy:\n",
    "- Two-layer MLP, 64 neurons, activation tanh, output Gaussian mean\n",
    "- Log standard deviation (same dimension as action)\n",
    "- Policy: $\\mathcal{N}(\\mbox{mean}=\\mbox{NeuralNet}(s;{W_i, b_i}^L_{i=1}), \\mbox{stdev}=e^r)$\n"
   ]
  },
  {
   "cell_type": "code",
   "execution_count": 176,
   "id": "96843a09-9b19-4841-996f-69033ea7cab6",
   "metadata": {},
   "outputs": [],
   "source": [
    "import torch.nn as nn\n",
    "import torch.nn.functional as F\n",
    "class ActorCriticPolicy(nn.Module):\n",
    "    def __init__(self, input_dim, output_dim, n_neurons=64, activation=nn.Tanh, distribution = torch.distributions.multivariate_normal.MultivariateNormal):\n",
    "        '''\n",
    "        input dim = obs dim\n",
    "        output dim = action dim\n",
    "        '''\n",
    "        super(ActorCriticPolicy, self).__init__()\n",
    "        \n",
    "        self.input_dim = input_dim\n",
    "        self.output_dim = output_dim\n",
    "        self.n_neurons = n_neurons\n",
    "        self.distribution = distribution\n",
    "\n",
    "        # Policy Network\n",
    "        self.h0 = nn.Linear(input_dim, n_neurons)\n",
    "        self.h0_act = activation()\n",
    "        self.h1 = nn.Linear(n_neurons, n_neurons)\n",
    "        self.h1_act = activation()\n",
    "        self.output_layer = nn.Linear(n_neurons, output_dim)\n",
    "\n",
    "        # Value Network\n",
    "        self.h0v = nn.Linear(input_dim, n_neurons)\n",
    "        self.h0_actv = activation()\n",
    "        self.h1v = nn.Linear(n_neurons, n_neurons)\n",
    "        self.h1_actv = activation()\n",
    "        self.value_head = nn.Linear(n_neurons, 1)\n",
    "\n",
    "        self.variance = torch.nn.Parameter(torch.tensor([0.0]*self.output_dim), requires_grad = True)\n",
    "\n",
    "        #self.mean_activation = nn.Tanh()\n",
    "\n",
    "    def forward(self, obs, action=None):\n",
    "        '''\n",
    "        obs: tensor.size([input_dim])\n",
    "        '''\n",
    "        # Policy Forward: obs->action\n",
    "        x = self.h0(obs)\n",
    "        x = self.h0_act(x)\n",
    "        x = self.h1(x)\n",
    "        x = self.h1_act(x)\n",
    "        action_mean = self.output_layer(x) #tensor.size([#obs,act_dim])\n",
    "\n",
    "        action_variance = torch.exp(self.variance)\n",
    "        action_dist = self.distribution(action_mean, torch.diag_embed(action_variance)) #tensor.size([#obs, obs_dim, obs_dim])\n",
    "\n",
    "        if action is None:\n",
    "            action = action_dist.sample() #tensor.size([#obs, act_dim])\n",
    "        \n",
    "        logprob = action_dist.log_prob(action) #tensor.size([#obs])\n",
    "        \n",
    "        # Value Forward: obs-> state value(V)\n",
    "        x = self.h0v(obs)\n",
    "        x = self.h0_actv(x)\n",
    "        x = self.h1v(x)\n",
    "        x = self.h1_actv(x)\n",
    "        value = self.value_head(x)\n",
    "        value = torch.squeeze(value) #tensor.size([#obs,1]) - > tensor.size([#obs])\n",
    "\n",
    "        return action, logprob, value # action: tensor.size([#obs, act_dim]), logprob: tensor.size([#obs]), value: tensor.size([#obs])\n",
    "        # Question: Do we need the entropy of the distribution?\n",
    "                                           "
   ]
  },
  {
   "cell_type": "markdown",
   "id": "26e6c1dd-d1ac-4bf1-bbb5-f5d6b506b006",
   "metadata": {},
   "source": [
    "# PPO"
   ]
  },
  {
   "cell_type": "code",
   "execution_count": 177,
   "id": "00807b30-0714-4a70-ba9b-5b4e153573b1",
   "metadata": {},
   "outputs": [],
   "source": [
    "class PPO_X():\n",
    "    def __init__(self, input_dim, output_dim, network=ActorCriticPolicy):\n",
    "        self.input_dim = input_dim\n",
    "        self.output_dim = output_dim\n",
    "        self.policy = network(input_dim, output_dim)\n",
    "        \n",
    "        self.total_obs = []\n",
    "        self.total_act = []\n",
    "        self.total_rew = []\n",
    "        self.total_ep_rew=[]\n",
    "        self.total_ep_len=[]\n",
    "        \n",
    "    def forward(self, observation, action = None):\n",
    "        return self.policy.forward(observation, action=action)\n",
    "    \n",
    "    def rollout(self, env, timesteps, gamma, lamb): # timesteps << episode length\n",
    "        '''\n",
    "        Run policy pi_old in environment for T timesteps\n",
    "        Compute advantage estimates A_1,...,A_T\n",
    "        '''\n",
    "        obs_trajectory = []\n",
    "        action_trajectory = []\n",
    "        logprob_trajectory = []\n",
    "        value_trajectory = []\n",
    "        reward_trajectory = []\n",
    "        done_trajectory = []\n",
    "        \n",
    "        with torch.set_grad_enabled(False):\n",
    "            done = True\n",
    "            for i in range(timesteps):\n",
    "                if done:\n",
    "                    obs = torch.unsqueeze(torch.tensor(env.reset()).float(),0) # numpy array shape (obs_dim, ) \n",
    "                                                                       # -> tensor.size([obs_dim])\n",
    "                                                                       # -> tensor.size([1, obs_dim])\n",
    "                    done = False\n",
    "\n",
    "                action, logprob, value = self.forward(observation = obs) # action: tensor.size([1, act_dim]), logprob: tensor.size([1]), value: tensor.size([1])\n",
    "\n",
    "                action = torch.squeeze(action) # tensor([act_dim])\n",
    "                logprob = torch.squeeze(logprob) # tensor(1)\n",
    "                value = torch.squeeze(value) # tensor(1)\n",
    "\n",
    "                action_trajectory.append(action)\n",
    "                logprob_trajectory.append(logprob)\n",
    "                value_trajectory.append(value)\n",
    "                obs_trajectory.append(torch.squeeze(obs))\n",
    "                done_trajectory.append(done)\n",
    "\n",
    "                obs, reward, done, _ = env.step(action.numpy().astype(float)) # step() takes np array shape(act_dim,)\n",
    "                obs = torch.unsqueeze(torch.tensor(obs).float(),0)\n",
    "                reward = torch.tensor(reward).float() # tensor.size([])\n",
    "                #print(\"reward\", reward, \"done\", done)\n",
    "\n",
    "                reward_trajectory.append(reward)\n",
    "            # All trajectories are lists of squeezed tensors, done_trajectory is a list of bool\n",
    "            # List->stacked tensor\n",
    "            obs_trajectory = torch.stack(obs_trajectory) # tensor.size([#obs, obs_dim])\n",
    "            action_trajectory = torch.stack(action_trajectory)\n",
    "            logprob_trajectory = torch.stack(logprob_trajectory)# tensor.size([#obs])\n",
    "            value_trajectory = torch.stack(value_trajectory)\n",
    "            reward_trajectory = torch.stack(reward_trajectory)  \n",
    "\n",
    "            done_trajectory = np.asarray(done_trajectory, dtype=np.bool_)\n",
    "\n",
    "            _, __, last_value = self.forward(obs)\n",
    "\n",
    "            adv_trajectory = torch.zeros_like(reward_trajectory).float()\n",
    "            delta_trajectory = torch.zeros_like(reward_trajectory).float()\n",
    "\n",
    "            for t in reversed(range(timesteps)): #T-1 -> 0\n",
    "\n",
    "                if done_trajectory[t]:\n",
    "                    delta_trajectory[t] = reward_trajectory[t]-value_trajectory[t]\n",
    "                    adv_trajectory[t]=delta_trajectory[t]\n",
    "\n",
    "                else:\n",
    "                    if t == timesteps-1:\n",
    "                        delta_trajectory[t] = reward_trajectory[t]-value_trajectory[t]\n",
    "                        adv_trajectory[t]=delta_trajectory[t]\n",
    "                    else:\n",
    "                        delta_trajectory[t] = reward_trajectory[t]+gamma*value_trajectory[t+1]-value_trajectory[t]\n",
    "                        adv_trajectory[t]=delta_trajectory[t]+gamma*lamb*adv_trajectory[t+1]\n",
    "\n",
    "    #             if t == timesteps-1:\n",
    "    #                 adv_trajectory[t]=delta_trajectory[t]\n",
    "\n",
    "\n",
    "    #             else:\n",
    "    #                 adv_trajectory[t]=delta_trajectory[t]+gamma*lamb*adv_trajectory[t+1] #recursion\n",
    "            #print(\"in rollout:\",obs_trajectory.size())\n",
    "        return(obs_trajectory, action_trajectory, logprob_trajectory, adv_trajectory)\n",
    "    \n",
    "    def loss(self, epsilon, obs_traj, action_traj, logprob_traj, adv_traj, current_logprob):\n",
    "        # ratio\n",
    "        ratio = torch.exp(current_logprob-logprob_traj) # torch.size([#obs])\n",
    "        \n",
    "        adv_traj = (adv_traj - adv_traj.mean()) / (adv_traj.std() + 1e-8)\n",
    "        # loss\n",
    "        l1 = ratio*adv_traj # torch.size([#obs])\n",
    "        l2 = torch.clamp(ratio, 1.-epsilon, 1.+epsilon)*adv_traj # torch.size([#obs])\n",
    "        # Minimize negative L\n",
    "        PGloss = -torch.mean(torch.min(l1, l2))# torch.size([#obs])\n",
    "            \n",
    "        return PGloss # torch.size([])\n",
    "    \n",
    "    def train_step(self, epsilon, obs_traj, action_traj, logprob_traj, adv_traj):\n",
    "        \n",
    "        #Question: adv needs normalization?\n",
    "        \n",
    "        self.policy.train() # module train mode\n",
    "        with torch.set_grad_enabled(True):\n",
    "            action, logprob, value = self.forward(obs_traj, action=action_traj)\n",
    "            \n",
    "            PGloss = self.loss(epsilon, obs_traj, action_traj, logprob_traj, adv_traj,logprob)\n",
    "            \n",
    "            PGloss.backward()\n",
    "            \n",
    "            return(PGloss)\n",
    "    \n",
    "    def train(self, env, total_timesteps, timesteps=1024, k_epoch=10, num_batch=4, n_actor=1, \n",
    "              epsilon=0.2, gamma = 0.99, lamb=0.95, lr = 0.0003, optimizer = torch.optim.Adam, \n",
    "              evaluate=True, eval_env=None, n_ep=5, timeout=None, plot=True):\n",
    "        \n",
    "        self.env = env\n",
    "        self.eval_env = eval_env\n",
    "        self.timesteps =timesteps\n",
    "        n_updates = total_timesteps//timesteps # number of iterations\n",
    "        \n",
    "        self.policy_optimizer=optimizer(self.policy.parameters(), lr=lr)\n",
    "\n",
    "        for i in tqdm(range(n_updates)):\n",
    "            actor=0\n",
    "            obs_trajectory, action_trajectory, logprob_trajectory, adv_trajectory = self.rollout(env, timesteps, gamma, lamb)\n",
    "            for actor in range(n_actor-1):\n",
    "                more_obs_traj, more_action_traj, more_logprob_traj, more_adv_traj = self.rollout(env, timesteps, gamma, lamb)\n",
    "                obs_trajectory = torch.cat((obs_trajectory, more_obs_traj),0)\n",
    "                action_trajectory = torch.cat((action_trajectory, more_action_traj),0)\n",
    "                logprob_trajectory = torch.cat((logprob_trajectory, more_logprob_traj),0)\n",
    "                adv_trajectory = torch.cat((adv_trajectory, more_adv_traj),0)\n",
    "            \n",
    "            indices = np.arange(n_actor*timesteps) # [0, 1, ..., n_actor*timesteps-1]\n",
    "            \n",
    "            for k in range(k_epoch):\n",
    "                np.random.shuffle(indices)\n",
    "                batch_size = n_actor*timesteps//num_batch\n",
    "                \n",
    "                if(timesteps%num_batch):\n",
    "                    batch_size += 1\n",
    "                \n",
    "                for b in range(num_batch):\n",
    "                    #reset gradient\n",
    "                    self.policy.zero_grad()\n",
    "                    \n",
    "                    if b != num_batch-1: # all batches except the last one\n",
    "                        batch_indices = indices[b*batch_size:(b+1)*batch_size]\n",
    "                    else:\n",
    "                        batch_indices = indices[b*batch_size:] # last batch\n",
    "                \n",
    "                    batch=[tensor[batch_indices] for tensor in (torch.unsqueeze(obs_trajectory,1), action_trajectory, logprob_trajectory, adv_trajectory)]\n",
    "                    #print(\"in train\", batch[0])\n",
    "                    PGloss = self.train_step(epsilon, *batch) \n",
    "                    \n",
    "                    #Question: Do we need to clip gradient?\n",
    "                    \n",
    "                    self.policy_optimizer.step()\n",
    "            if evaluate:\n",
    "                self.eval_policy(env=eval_env, n_ep=n_ep, timeout=timeout)\n",
    "        if plot:\n",
    "            plt.figure()\n",
    "            plt.plot(self.total_ep_rew)\n",
    "                    \n",
    "    def eval_policy(self, env, n_ep=5, timeout=None):\n",
    "        if env == None:\n",
    "            env = self.env\n",
    "            self.eval_env = self.env\n",
    "            \n",
    "        if timeout==None:\n",
    "            try:\n",
    "                timeout = env.timeout\n",
    "            \n",
    "            except:\n",
    "                timeout = self.timesteps\n",
    "                print(\"Timeout is set to {}. Please checkout the env documentation to verify the episode termination requirment or manually decide the timeout.\".format(self.timesteps))\n",
    "\n",
    "        for i_episode in range(n_ep):\n",
    "            obs = []\n",
    "            act = []\n",
    "            rew = []\n",
    "            ep_reward_ls = []\n",
    "            ep_len_ls=[]\n",
    "            ep_reward = 0\n",
    "            ep_len=0\n",
    "            observation = self.env.reset()\n",
    "            obs.append(observation)\n",
    "            for t in range(timeout):\n",
    "                with torch.set_grad_enabled(False):\n",
    "                    observation = torch.unsqueeze(torch.tensor(observation).float(),0)\n",
    "                    action, _, __=self.forward(observation)\n",
    "                    action = torch.squeeze(action)\n",
    "                    observation, reward, done, info = self.env.step(action.detach().numpy())\n",
    "                    #print(\"reward:\", reward)\n",
    "                    ep_reward += reward\n",
    "                    ep_len +=1\n",
    "                    rew.append(reward)\n",
    "                    act.append(action)\n",
    "                    obs.append(observation)\n",
    "\n",
    "                    if done or t == timeout-1:\n",
    "                        #print(\"Episode finished after {} timesteps\".format(t+1))\n",
    "                        #print(\"Survival time: {}\".format(ep_reward+env.penalty*(t+1)))\n",
    "                        break\n",
    "\n",
    "            ep_reward_ls.append(ep_reward) \n",
    "            ep_len_ls.append(ep_len)\n",
    "            self.total_rew.append(rew)\n",
    "            self.total_act.append(act)\n",
    "            self.total_obs.append(obs)\n",
    "\n",
    "        self.total_ep_rew.append(np.mean(ep_reward_ls))\n",
    "        self.total_ep_len.append(np.mean(ep_len_ls))\n",
    "        \n",
    "         \n",
    "    def eval(self, obs):\n",
    "        with torch.set_grad_enabled(False):\n",
    "            obs = torch.unsqueeze(torch.tensor(obs).float(),0)\n",
    "            action, _, __=self.forward(obs)\n",
    "        return(torch.squeeze(action))\n",
    "            "
   ]
  },
  {
   "cell_type": "markdown",
   "id": "5d642ad5-82f7-4923-917f-176bbd575880",
   "metadata": {},
   "source": [
    "# TEST with our environment"
   ]
  },
  {
   "cell_type": "code",
   "execution_count": 178,
   "id": "cf671272-3524-4dc2-8652-67cc837f2bc9",
   "metadata": {},
   "outputs": [],
   "source": [
    "env =SimEnv()"
   ]
  },
  {
   "cell_type": "code",
   "execution_count": 179,
   "id": "8e0ad028-2a98-4ad6-bf67-5766282d0999",
   "metadata": {},
   "outputs": [
    {
     "name": "stderr",
     "output_type": "stream",
     "text": [
      "  0%|          | 0/200 [00:00<?, ?it/s]\n"
     ]
    },
    {
     "ename": "RuntimeError",
     "evalue": "stack expects each tensor to be equal size, but got [] at entry 0 and [1] at entry 38",
     "output_type": "error",
     "traceback": [
      "\u001b[0;31m---------------------------------------------------------------------------\u001b[0m",
      "\u001b[0;31mRuntimeError\u001b[0m                              Traceback (most recent call last)",
      "\u001b[0;32m<ipython-input-179-c1859f834a5b>\u001b[0m in \u001b[0;36m<module>\u001b[0;34m\u001b[0m\n\u001b[1;32m      1\u001b[0m \u001b[0mpolicy\u001b[0m\u001b[0;34m=\u001b[0m\u001b[0mPPO_X\u001b[0m\u001b[0;34m(\u001b[0m\u001b[0;36m1\u001b[0m\u001b[0;34m,\u001b[0m\u001b[0;36m2\u001b[0m\u001b[0;34m)\u001b[0m\u001b[0;34m\u001b[0m\u001b[0;34m\u001b[0m\u001b[0m\n\u001b[0;32m----> 2\u001b[0;31m \u001b[0mpolicy\u001b[0m\u001b[0;34m.\u001b[0m\u001b[0mtrain\u001b[0m\u001b[0;34m(\u001b[0m\u001b[0menv\u001b[0m\u001b[0;34m=\u001b[0m\u001b[0menv\u001b[0m\u001b[0;34m,\u001b[0m \u001b[0mtotal_timesteps\u001b[0m\u001b[0;34m=\u001b[0m\u001b[0;36m20000\u001b[0m\u001b[0;34m,\u001b[0m \u001b[0mtimesteps\u001b[0m\u001b[0;34m=\u001b[0m\u001b[0;36m100\u001b[0m\u001b[0;34m)\u001b[0m \u001b[0;31m# 100 iterations, 1 actor, 4 epochs, batch size=100/4=25\u001b[0m\u001b[0;34m\u001b[0m\u001b[0;34m\u001b[0m\u001b[0m\n\u001b[0m",
      "\u001b[0;32m<ipython-input-177-f0f0bf350ff8>\u001b[0m in \u001b[0;36mtrain\u001b[0;34m(self, env, total_timesteps, timesteps, k_epoch, num_batch, n_actor, epsilon, gamma, lamb, lr, optimizer, evaluate, eval_env, n_ep, timeout, plot)\u001b[0m\n\u001b[1;32m    131\u001b[0m         \u001b[0;32mfor\u001b[0m \u001b[0mi\u001b[0m \u001b[0;32min\u001b[0m \u001b[0mtqdm\u001b[0m\u001b[0;34m(\u001b[0m\u001b[0mrange\u001b[0m\u001b[0;34m(\u001b[0m\u001b[0mn_updates\u001b[0m\u001b[0;34m)\u001b[0m\u001b[0;34m)\u001b[0m\u001b[0;34m:\u001b[0m\u001b[0;34m\u001b[0m\u001b[0;34m\u001b[0m\u001b[0m\n\u001b[1;32m    132\u001b[0m             \u001b[0mactor\u001b[0m\u001b[0;34m=\u001b[0m\u001b[0;36m0\u001b[0m\u001b[0;34m\u001b[0m\u001b[0;34m\u001b[0m\u001b[0m\n\u001b[0;32m--> 133\u001b[0;31m             \u001b[0mobs_trajectory\u001b[0m\u001b[0;34m,\u001b[0m \u001b[0maction_trajectory\u001b[0m\u001b[0;34m,\u001b[0m \u001b[0mlogprob_trajectory\u001b[0m\u001b[0;34m,\u001b[0m \u001b[0madv_trajectory\u001b[0m \u001b[0;34m=\u001b[0m \u001b[0mself\u001b[0m\u001b[0;34m.\u001b[0m\u001b[0mrollout\u001b[0m\u001b[0;34m(\u001b[0m\u001b[0menv\u001b[0m\u001b[0;34m,\u001b[0m \u001b[0mtimesteps\u001b[0m\u001b[0;34m,\u001b[0m \u001b[0mgamma\u001b[0m\u001b[0;34m,\u001b[0m \u001b[0mlamb\u001b[0m\u001b[0;34m)\u001b[0m\u001b[0;34m\u001b[0m\u001b[0;34m\u001b[0m\u001b[0m\n\u001b[0m\u001b[1;32m    134\u001b[0m             \u001b[0;32mfor\u001b[0m \u001b[0mactor\u001b[0m \u001b[0;32min\u001b[0m \u001b[0mrange\u001b[0m\u001b[0;34m(\u001b[0m\u001b[0mn_actor\u001b[0m\u001b[0;34m-\u001b[0m\u001b[0;36m1\u001b[0m\u001b[0;34m)\u001b[0m\u001b[0;34m:\u001b[0m\u001b[0;34m\u001b[0m\u001b[0;34m\u001b[0m\u001b[0m\n\u001b[1;32m    135\u001b[0m                 \u001b[0mmore_obs_traj\u001b[0m\u001b[0;34m,\u001b[0m \u001b[0mmore_action_traj\u001b[0m\u001b[0;34m,\u001b[0m \u001b[0mmore_logprob_traj\u001b[0m\u001b[0;34m,\u001b[0m \u001b[0mmore_adv_traj\u001b[0m \u001b[0;34m=\u001b[0m \u001b[0mself\u001b[0m\u001b[0;34m.\u001b[0m\u001b[0mrollout\u001b[0m\u001b[0;34m(\u001b[0m\u001b[0menv\u001b[0m\u001b[0;34m,\u001b[0m \u001b[0mtimesteps\u001b[0m\u001b[0;34m,\u001b[0m \u001b[0mgamma\u001b[0m\u001b[0;34m,\u001b[0m \u001b[0mlamb\u001b[0m\u001b[0;34m)\u001b[0m\u001b[0;34m\u001b[0m\u001b[0;34m\u001b[0m\u001b[0m\n",
      "\u001b[0;32m<ipython-input-177-f0f0bf350ff8>\u001b[0m in \u001b[0;36mrollout\u001b[0;34m(self, env, timesteps, gamma, lamb)\u001b[0m\n\u001b[1;32m     59\u001b[0m             \u001b[0mlogprob_trajectory\u001b[0m \u001b[0;34m=\u001b[0m \u001b[0mtorch\u001b[0m\u001b[0;34m.\u001b[0m\u001b[0mstack\u001b[0m\u001b[0;34m(\u001b[0m\u001b[0mlogprob_trajectory\u001b[0m\u001b[0;34m)\u001b[0m\u001b[0;31m# tensor.size([#obs])\u001b[0m\u001b[0;34m\u001b[0m\u001b[0;34m\u001b[0m\u001b[0m\n\u001b[1;32m     60\u001b[0m             \u001b[0mvalue_trajectory\u001b[0m \u001b[0;34m=\u001b[0m \u001b[0mtorch\u001b[0m\u001b[0;34m.\u001b[0m\u001b[0mstack\u001b[0m\u001b[0;34m(\u001b[0m\u001b[0mvalue_trajectory\u001b[0m\u001b[0;34m)\u001b[0m\u001b[0;34m\u001b[0m\u001b[0;34m\u001b[0m\u001b[0m\n\u001b[0;32m---> 61\u001b[0;31m             \u001b[0mreward_trajectory\u001b[0m \u001b[0;34m=\u001b[0m \u001b[0mtorch\u001b[0m\u001b[0;34m.\u001b[0m\u001b[0mstack\u001b[0m\u001b[0;34m(\u001b[0m\u001b[0mreward_trajectory\u001b[0m\u001b[0;34m)\u001b[0m\u001b[0;34m\u001b[0m\u001b[0;34m\u001b[0m\u001b[0m\n\u001b[0m\u001b[1;32m     62\u001b[0m \u001b[0;34m\u001b[0m\u001b[0m\n\u001b[1;32m     63\u001b[0m             \u001b[0mdone_trajectory\u001b[0m \u001b[0;34m=\u001b[0m \u001b[0mnp\u001b[0m\u001b[0;34m.\u001b[0m\u001b[0masarray\u001b[0m\u001b[0;34m(\u001b[0m\u001b[0mdone_trajectory\u001b[0m\u001b[0;34m,\u001b[0m \u001b[0mdtype\u001b[0m\u001b[0;34m=\u001b[0m\u001b[0mnp\u001b[0m\u001b[0;34m.\u001b[0m\u001b[0mbool_\u001b[0m\u001b[0;34m)\u001b[0m\u001b[0;34m\u001b[0m\u001b[0;34m\u001b[0m\u001b[0m\n",
      "\u001b[0;31mRuntimeError\u001b[0m: stack expects each tensor to be equal size, but got [] at entry 0 and [1] at entry 38"
     ]
    }
   ],
   "source": [
    "policy=PPO_X(1,2)\n",
    "policy.train(env=env, total_timesteps=20000, timesteps=100) # 100 iterations, 1 actor, 4 epochs, batch size=100/4=25"
   ]
  },
  {
   "cell_type": "markdown",
   "id": "045068fa-6682-4cb2-a901-98854dcd79b2",
   "metadata": {},
   "source": [
    "## sb3 PPO in our environment"
   ]
  },
  {
   "cell_type": "code",
   "execution_count": 171,
   "id": "e023f16a-b72d-4303-8b29-9858ce43b7c6",
   "metadata": {},
   "outputs": [],
   "source": [
    "def eval_policy(env, policy, n_ep=5, timeout=1024):\n",
    "    for i_episode in range(n_ep):\n",
    "        ep_reward_ls = []\n",
    "        ep_len_ls=[]\n",
    "        ep_reward = 0\n",
    "        ep_len=0\n",
    "        observation =env.reset()\n",
    "        for t in range(timeout):\n",
    "            with torch.set_grad_enabled(False):\n",
    "                observation = torch.unsqueeze(torch.tensor(observation).float(),0)\n",
    "                action, _=policy.predict(observation)\n",
    "                action = action[0]\n",
    "                #print(\"action:\", action, type(action))\n",
    "                observation, reward, done, info = env.step(action)\n",
    "                #print(\"reward:\", reward)\n",
    "                ep_reward += reward\n",
    "                ep_len +=1\n",
    "\n",
    "                if done or t == timeout-1:\n",
    "                    #print(\"Episode finished after {} timesteps\".format(t+1))\n",
    "                    #print(\"Survival time: {}\".format(ep_reward+env.penalty*(t+1)))\n",
    "                    break\n",
    "\n",
    "        ep_reward_ls.append(ep_reward) \n",
    "        ep_len_ls.append(ep_len)\n",
    "\n",
    "    return(np.mean(ep_reward_ls), np.mean(ep_len_ls))"
   ]
  },
  {
   "cell_type": "code",
   "execution_count": 174,
   "id": "01ff652c-c189-41a3-ac02-7862e9a3ac7d",
   "metadata": {},
   "outputs": [
    {
     "name": "stdout",
     "output_type": "stream",
     "text": [
      "Using cpu device\n",
      "Wrapping the env with a `Monitor` wrapper\n",
      "Wrapping the env in a DummyVecEnv.\n"
     ]
    },
    {
     "name": "stderr",
     "output_type": "stream",
     "text": [
      "100%|██████████| 200/200 [00:56<00:00,  3.57it/s]\n"
     ]
    },
    {
     "data": {
      "text/plain": [
       "[<matplotlib.lines.Line2D at 0x7ff4765f1850>]"
      ]
     },
     "execution_count": 174,
     "metadata": {},
     "output_type": "execute_result"
    },
    {
     "data": {
      "image/png": "[encoded data removed]",
      "text/plain": [
       "<Figure size 432x288 with 1 Axes>"
      ]
     },
     "metadata": {
      "needs_background": "light"
     },
     "output_type": "display_data"
    }
   ],
   "source": [
    "policy_sb= PPO(\"MlpPolicy\", env, n_steps=100, batch_size=64, verbose=1)\n",
    "total_ep_rew=[]\n",
    "total_ep_len=[]\n",
    "for i in tqdm(range(20000//100)):  \n",
    "    policy_sb.learn(total_timesteps=100, eval_freq=10000, log_interval=10000)\n",
    "    #policy_mujoco_sb.learn(total_timesteps=1024)\n",
    "    r, l = eval_policy(env, policy_sb, n_ep=5, timeout=100)\n",
    "    total_ep_rew.append(r)\n",
    "    total_ep_len.append(l)\n",
    "\n",
    "plt.figure()\n",
    "plt.plot(total_ep_rew)"
   ]
  },
  {
   "cell_type": "markdown",
   "id": "b8e4f7ec-f2de-413e-9924-1bdc62a4a809",
   "metadata": {},
   "source": [
    "# TEST with mujoco"
   ]
  },
  {
   "cell_type": "code",
   "execution_count": 86,
   "id": "9492b2d8-ef6d-4f98-8f57-27c43177d599",
   "metadata": {},
   "outputs": [],
   "source": [
    "env_mujoco = gym.make('HalfCheetah-v2')"
   ]
  },
  {
   "cell_type": "code",
   "execution_count": 140,
   "id": "27d468e7-7aee-42a5-9609-4760a1a2152b",
   "metadata": {},
   "outputs": [],
   "source": [
    "policy_mujoco = PPO_X(17, 6)"
   ]
  },
  {
   "cell_type": "code",
   "execution_count": 141,
   "id": "347d76b4-5be2-4cc0-a814-4168ecf3002d",
   "metadata": {},
   "outputs": [
    {
     "name": "stderr",
     "output_type": "stream",
     "text": [
      "100%|██████████| 97/97 [09:54<00:00,  6.13s/it]\n"
     ]
    },
    {
     "data": {
      "image/png": "[encoded data removed]",
      "text/plain": [
       "<Figure size 432x288 with 1 Axes>"
      ]
     },
     "metadata": {
      "needs_background": "light"
     },
     "output_type": "display_data"
    }
   ],
   "source": [
    "policy_mujoco.train(env=env_mujoco, total_timesteps=100000, timesteps=1024, timeout=1024) # 97 iterations, 1 actor, 4 epochs, batch size=1024/4=256"
   ]
  },
  {
   "cell_type": "markdown",
   "id": "db197583-dcd3-45d7-bbfd-40a26811834c",
   "metadata": {},
   "source": [
    "## sb3 PPO in mujoco"
   ]
  },
  {
   "cell_type": "code",
   "execution_count": 125,
   "id": "bc7fd68d-afaa-4468-8788-e60bf3025186",
   "metadata": {},
   "outputs": [],
   "source": [
    "def eval_policy(env, policy, n_ep=5, timeout=1024):\n",
    "    for i_episode in range(n_ep):\n",
    "        ep_reward_ls = []\n",
    "        ep_len_ls=[]\n",
    "        ep_reward = 0\n",
    "        ep_len=0\n",
    "        observation =env.reset()\n",
    "        for t in range(timeout):\n",
    "            with torch.set_grad_enabled(False):\n",
    "                observation = torch.unsqueeze(torch.tensor(observation).float(),0)\n",
    "                action, _=policy.predict(observation)\n",
    "                observation, reward, done, info = env.step(action)\n",
    "                #print(\"reward:\", reward)\n",
    "                ep_reward += reward\n",
    "                ep_len +=1\n",
    "\n",
    "                if done or t == timeout-1:\n",
    "                    #print(\"Episode finished after {} timesteps\".format(t+1))\n",
    "                    #print(\"Survival time: {}\".format(ep_reward+env.penalty*(t+1)))\n",
    "                    break\n",
    "\n",
    "        ep_reward_ls.append(ep_reward) \n",
    "        ep_len_ls.append(ep_len)\n",
    "\n",
    "    return(np.mean(ep_reward_ls), np.mean(ep_len_ls))\n",
    "\n"
   ]
  },
  {
   "cell_type": "code",
   "execution_count": 134,
   "id": "6f059b39-de69-4f9c-b998-235276e74e5d",
   "metadata": {},
   "outputs": [
    {
     "name": "stdout",
     "output_type": "stream",
     "text": [
      "Using cpu device\n",
      "Wrapping the env with a `Monitor` wrapper\n",
      "Wrapping the env in a DummyVecEnv.\n"
     ]
    },
    {
     "name": "stderr",
     "output_type": "stream",
     "text": [
      "100%|██████████| 97/97 [08:33<00:00,  5.29s/it]\n"
     ]
    },
    {
     "data": {
      "text/plain": [
       "[<matplotlib.lines.Line2D at 0x7ff456679700>]"
      ]
     },
     "execution_count": 134,
     "metadata": {},
     "output_type": "execute_result"
    },
    {
     "data": {
      "image/png": "[encoded data removed]",
      "text/plain": [
       "<Figure size 432x288 with 1 Axes>"
      ]
     },
     "metadata": {
      "needs_background": "light"
     },
     "output_type": "display_data"
    }
   ],
   "source": [
    "policy_mujoco_sb= PPO(\"MlpPolicy\", env_mujoco, n_steps=1024, batch_size=64, verbose=1)\n",
    "total_ep_rew=[]\n",
    "total_ep_len=[]\n",
    "for i in tqdm(range(100000//1024)):  \n",
    "    policy_mujoco_sb.learn(total_timesteps=1024, eval_freq=10000, log_interval=10000)\n",
    "    #policy_mujoco_sb.learn(total_timesteps=1024)\n",
    "    r, l = eval_policy(env_mujoco, policy_mujoco_sb, n_ep=5, timeout=1024)\n",
    "    total_ep_rew.append(r)\n",
    "    total_ep_len.append(l)\n",
    "\n",
    "plt.figure()\n",
    "plt.plot(total_ep_rew)"
   ]
  },
  {
   "cell_type": "code",
   "execution_count": null,
   "id": "415821e2-94a6-4ef0-ab49-4fa1492a0329",
   "metadata": {},
   "outputs": [],
   "source": []
  },
  {
   "cell_type": "code",
   "execution_count": null,
   "id": "a10de9bb-9db1-40e8-a9fc-55c451ddeb41",
   "metadata": {},
   "outputs": [],
   "source": []
  }
 ],
 "metadata": {
  "kernelspec": {
   "display_name": "Python 3",
   "language": "python",
   "name": "python3"
  },
  "language_info": {
   "codemirror_mode": {
    "name": "ipython",
    "version": 3
   },
   "file_extension": ".py",
   "mimetype": "text/x-python",
   "name": "python",
   "nbconvert_exporter": "python",
   "pygments_lexer": "ipython3",
   "version": "3.9.5"
  },
  "toc-autonumbering": true,
  "toc-showcode": true,
  "toc-showmarkdowntxt": true
 },
 "nbformat": 4,
 "nbformat_minor": 5
}
